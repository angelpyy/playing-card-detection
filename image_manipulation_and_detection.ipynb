{
 "cells": [
  {
   "cell_type": "markdown",
   "metadata": {},
   "source": [
    "Add all imports here :)"
   ]
  },
  {
   "cell_type": "code",
   "execution_count": 7,
   "metadata": {},
   "outputs": [],
   "source": [
    "import cv2\n",
    "import numpy as np\n",
    "import pyautogui\n",
    "from PIL import ImageGrab\n",
    "import tkinter as tk\n",
    "from tkinter import ttk\n",
    "import tensorflow as tf\n",
    "from tensorflow.keras import layers, models\n",
    "import os\n",
    "import time"
   ]
  },
  {
   "cell_type": "markdown",
   "metadata": {},
   "source": [
    "DEF THE CARD DETECTION GUI"
   ]
  },
  {
   "cell_type": "code",
   "execution_count": 8,
   "metadata": {},
   "outputs": [],
   "source": [
    "# GUI Class\n",
    "class CardDetectorGUI:\n",
    "    def __init__(self, master):\n",
    "        self.master = master\n",
    "        master.title(\"Card Detector\")\n",
    "\n",
    "        self.start_button = ttk.Button(master, text=\"Start Detection\", command=self.start_detection)\n",
    "        self.start_button.pack()\n",
    "\n",
    "        self.stop_button = ttk.Button(master, text=\"Stop Detection\", command=self.stop_detection)\n",
    "        self.stop_button.pack()\n",
    "        self.stop_button.config(state='disabled')\n",
    "\n",
    "        self.status_label = ttk.Label(master, text=\"Status: Idle\")\n",
    "        self.status_label.pack()\n",
    "\n",
    "        self.is_running = False\n",
    "\n",
    "    def start_detection(self):\n",
    "        self.is_running = True\n",
    "        self.start_button.config(state='disabled')\n",
    "        self.stop_button.config(state='normal')\n",
    "        self.status_label.config(text=\"Status: Running\")\n",
    "        self.master.after(100, self.run_detection)\n",
    "\n",
    "    def stop_detection(self):\n",
    "        self.is_running = False\n",
    "        self.start_button.config(state='normal')\n",
    "        self.stop_button.config(state='disabled')\n",
    "        self.status_label.config(text=\"Status: Stopped\")\n",
    "\n",
    "    def run_detection(self):\n",
    "        if self.is_running:\n",
    "            # Get screen size\n",
    "            screen_width, screen_height = pyautogui.size()\n",
    "            \n",
    "            # REGION OF INTEREST V IMPORTANT\n",
    "            roi_width = int(screen_width // 3)\n",
    "            roi_height = int(screen_height)\n",
    "            roi_left = 0\n",
    "            roi_top = 0\n",
    "            \n",
    "            # Capture screen\n",
    "            screen = np.array(ImageGrab.grab(bbox=(roi_left, roi_top, roi_left + roi_width, roi_top + roi_height)))\n",
    "            screen = cv2.cvtColor(screen, cv2.COLOR_RGB2BGR)\n",
    "\n",
    "            # Process the image\n",
    "            corners = detect_card_corners(screen)\n",
    "            result = draw_top_left_corner_boxes(screen.copy(), corners)\n",
    "            corner_regions = extract_corner_regions(screen, corners)\n",
    "\n",
    "            # Here you would run your model predictions on corner_regions\n",
    "\n",
    "            # Display the result\n",
    "            cv2.imshow('Card Detection', result)\n",
    "            cv2.waitKey(1)\n",
    "\n",
    "            self.master.after(100, self.run_detection)"
   ]
  },
  {
   "cell_type": "markdown",
   "metadata": {},
   "source": [
    "CARD DETECTION AND IMAGE FUNCTIONS"
   ]
  },
  {
   "cell_type": "code",
   "execution_count": 9,
   "metadata": {},
   "outputs": [],
   "source": [
    "def detect_card_corners(image):\n",
    "    gray = cv2.cvtColor(image, cv2.COLOR_BGR2GRAY)\n",
    "    blurred = cv2.GaussianBlur(gray, (5, 5), 0)\n",
    "    edges = cv2.Canny(blurred, 50, 150)\n",
    "    \n",
    "    contours, _ = cv2.findContours(edges, cv2.RETR_EXTERNAL, cv2.CHAIN_APPROX_SIMPLE)\n",
    "    \n",
    "    card_corners = []\n",
    "    for contour in contours:\n",
    "        peri = cv2.arcLength(contour, True)\n",
    "        approx = cv2.approxPolyDP(contour, 0.02 * peri, True)\n",
    "        \n",
    "        if len(approx) == 4:  # Assuming cards are rectangular\n",
    "            # Get bounding rectangle\n",
    "            x, y, w, h = cv2.boundingRect(approx)\n",
    "            \n",
    "            # Check if the contour is large enough to be a card\n",
    "            if w > 100 and h > 150:  # Adjust these thresholds as needed\n",
    "                # Add only the top-left corner\n",
    "                card_corners.append((x, y))\n",
    "    \n",
    "    return card_corners"
   ]
  },
  {
   "cell_type": "code",
   "execution_count": 10,
   "metadata": {},
   "outputs": [],
   "source": [
    "def draw_top_left_corner_boxes(image, corners):\n",
    "    for corner in corners:\n",
    "        x, y = corner\n",
    "        corner_width = 80  # Adjust this to ensure suit and number are included\n",
    "        corner_height = 180  # Adjust this to ensure suit and number are included\n",
    "        cv2.rectangle(image, (x, y), (x + corner_width, y + corner_height), (0, 255, 0), 2)\n",
    "    return image"
   ]
  },
  {
   "cell_type": "code",
   "execution_count": 11,
   "metadata": {},
   "outputs": [],
   "source": [
    "def extract_corner_regions(image, corners):\n",
    "    corner_regions = []\n",
    "    corner_width = 80  # Should match the width in draw_top_left_corner_boxes\n",
    "    corner_height = 180  # Should match the height in draw_top_left_corner_boxes\n",
    "    \n",
    "    for corner in corners:\n",
    "        x, y = corner\n",
    "        corner_region = image[y:y+corner_height, x:x+corner_width]\n",
    "        corner_regions.append(corner_region)\n",
    "    \n",
    "    return corner_regions"
   ]
  },
  {
   "cell_type": "code",
   "execution_count": 12,
   "metadata": {},
   "outputs": [],
   "source": [
    "root = tk.Tk()\n",
    "gui = CardDetectorGUI(root)\n",
    "root.mainloop()"
   ]
  }
 ],
 "metadata": {
  "kernelspec": {
   "display_name": "card_detection",
   "language": "python",
   "name": "python3"
  },
  "language_info": {
   "codemirror_mode": {
    "name": "ipython",
    "version": 3
   },
   "file_extension": ".py",
   "mimetype": "text/x-python",
   "name": "python",
   "nbconvert_exporter": "python",
   "pygments_lexer": "ipython3",
   "version": "3.10.13"
  }
 },
 "nbformat": 4,
 "nbformat_minor": 2
}
